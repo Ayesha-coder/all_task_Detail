{
 "cells": [
  {
   "cell_type": "code",
   "execution_count": null,
   "id": "16d51eab",
   "metadata": {},
   "outputs": [],
   "source": []
  },
  {
   "cell_type": "code",
   "execution_count": 1,
   "id": "0d41ea74",
   "metadata": {},
   "outputs": [
    {
     "name": "stdout",
     "output_type": "stream",
     "text": [
      "[WinError 123] The filename, directory name, or volume label syntax is incorrect: 'c:\\\\\\\\Users\\\\\\\\Ayesha\\\\\\\\Documents\\\\\\\\pf_task\\\\\\\\real_time_CNIC_detect ; /usr/bin/env C:\\\\\\\\ProgramData\\\\\\\\Anaconda3\\\\\\\\python.exe c:\\\\\\\\Users\\\\\\\\Ayesha\\\\\\\\.vscode\\\\\\\\extensions\\\\\\\\ms-python.py'\n",
      "C:\\Users\\Ayesha\\Documents\\pf_task\\real_time_CNIC_detect\n"
     ]
    }
   ],
   "source": [
    "cd c:\\\\Users\\\\Ayesha\\\\Documents\\\\pf_task\\\\real_time_CNIC_detect ; /usr/bin/env C:\\\\ProgramData\\\\Anaconda3\\\\python.exe c:\\\\Users\\\\Ayesha\\\\.vscode\\\\extensions\\\\ms-python.py"
   ]
  },
  {
   "cell_type": "code",
   "execution_count": null,
   "id": "adfed537",
   "metadata": {},
   "outputs": [],
   "source": [
    "import easyocr"
   ]
  }
 ],
 "metadata": {
  "kernelspec": {
   "display_name": "Python 3 (ipykernel)",
   "language": "python",
   "name": "python3"
  },
  "language_info": {
   "codemirror_mode": {
    "name": "ipython",
    "version": 3
   },
   "file_extension": ".py",
   "mimetype": "text/x-python",
   "name": "python",
   "nbconvert_exporter": "python",
   "pygments_lexer": "ipython3",
   "version": "3.8.3"
  }
 },
 "nbformat": 4,
 "nbformat_minor": 5
}
