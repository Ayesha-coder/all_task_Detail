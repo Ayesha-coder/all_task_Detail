{
 "cells": [
  {
   "cell_type": "code",
   "execution_count": 31,
   "metadata": {},
   "outputs": [],
   "source": [
    "import json\n",
    "import cv2\n",
    "from PIL import Image,ImageDraw,ImageOps,ImageFont\n",
    "import numpy as np\n",
    "import matplotlib.pyplot as plt"
   ]
  },
  {
   "cell_type": "code",
   "execution_count": 32,
   "metadata": {},
   "outputs": [
    {
     "name": "stdout",
     "output_type": "stream",
     "text": [
      "{'name': 'rect', 'x': 947, 'y': 529, 'width': 995, 'height': 182}\n",
      "{'name': 'rect', 'x': 1176, 'y': 930, 'width': 1369, 'height': 150}\n"
     ]
    }
   ],
   "source": [
    "image=Image.open('./imam id card.jpg')\n",
    "img=image.copy()\n",
    "img=ImageOps.exif_transpose(img)\n",
    "f=json.load(open('./via_export_json.json'))\n",
    "json_object = json.dumps(f, indent = 6)\n",
    "  \n",
    "# Writing to sample.json\n",
    "with open(\"sample.json\", \"w\") as outfile:\n",
    "    outfile.write(json_object)\n",
    "def img_func(i,text):\n",
    "    print(f['imam id card.jpg2702536']['regions'][i]['shape_attributes'])\n",
    "    x1=f['imam id card.jpg2702536']['regions'][i]['shape_attributes']['x']\n",
    "    y1=f['imam id card.jpg2702536']['regions'][i]['shape_attributes']['y']\n",
    "    x2=f['imam id card.jpg2702536']['regions'][i]['shape_attributes']['width']\n",
    "    y2=f['imam id card.jpg2702536']['regions'][i]['shape_attributes']['height']\n",
    "\n",
    "    w, h = np.array(img).shape[0],np.array(img).shape[1]\n",
    "    shape = [(x1,y1),(x1+x2,y1+y2)]\n",
    "    img1 = ImageDraw.Draw(img)  \n",
    "    font=ImageFont.truetype(\"arial.ttf\",100)\n",
    "    img1.text((x1+100,y1-100),text,(0,0,0),font=font)\n",
    "    img.save('box_img.jpg')\n",
    "    img1.rectangle(shape, outline =\"green\",width=30)\n",
    "img_func(0,'country')\n",
    "img_func(1,'name')"
   ]
  },
  {
   "cell_type": "code",
   "execution_count": null,
   "metadata": {},
   "outputs": [],
   "source": []
  }
 ],
 "metadata": {
  "interpreter": {
   "hash": "ecded438c6d45e34257984fa5c73b9d6614621bff075971972c087dd4400b669"
  },
  "kernelspec": {
   "display_name": "Python 3",
   "language": "python",
   "name": "python3"
  },
  "language_info": {
   "codemirror_mode": {
    "name": "ipython",
    "version": 3
   },
   "file_extension": ".py",
   "mimetype": "text/x-python",
   "name": "python",
   "nbconvert_exporter": "python",
   "pygments_lexer": "ipython3",
   "version": "3.8.3"
  }
 },
 "nbformat": 4,
 "nbformat_minor": 2
}
